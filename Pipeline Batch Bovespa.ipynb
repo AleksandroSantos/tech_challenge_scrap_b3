{
 "cells": [
  {
   "cell_type": "markdown",
   "id": "862b0708-6a37-4c5d-85b3-6a4f4456ba3f",
   "metadata": {},
   "source": [
    "**Pipeline Batch Bovespa (entrega obrigatória):**\n",
    "\n",
    "- Requisito 1 - Scrap de dados do site da B3 com dados do pregão D-1;\n",
    "- Requisito 2 - Os dados brutos devem ser ingeridos no s3 em formato parquet com partição diária; \n",
    "- Requisito 3 - O bucket deve acionar uma lambda que por sua vez irá chamar o job de ETL no glue; \n",
    "- Requisito 4 - A lambda pode ser em qualquer linguagem. Ela apenas deverá iniciar o job Glue; \n",
    "- Requisito 5 - O Job Glue deve ser feito no modo visual. Este job deve conter as seguintes transformações obrigatórias:\n",
    "    - A - Agrupamento numérico, sumarização, contagem ou soma.\n",
    "    - B - Renomear duas colunas existentes além das de agrupamento.\n",
    "    - C - Realizar um cálculo com campos de data, Exemplo, poder ser duração, comparação, diferença entre datas. \n",
    "- Requisito 6 - Os dados refinados no job glue devem ser salvos no formato parquet, numa pasta chamada refined, particionado por data e pelo nome ou abreviação da ação do pregão.\n",
    "- Requisito 7 - O job Glue deve automaticamente catalogar o dado no Glue Catalog e criar uma tabela no banco de dados default do Glue Catalog. \n",
    "- Requisito 8 - Os dados devem estar disponíveis, legíveis no Athena. \n",
    "- Requisito 9 - Opcional construir um notebook no Athena para montar uma visualização gráfica dos dados ingeridos. Pipeline Stream Bitcoin (entrega opcional):\n",
    "\n",
    "\n",
    "![image.png](attachment:3bb2fc51-40a3-4465-a5f3-2afefc234013.png)"
   ]
  },
  {
   "cell_type": "code",
   "execution_count": 6,
   "id": "a2b68c13-e66c-4ef2-9bcc-9c0b3eca0c17",
   "metadata": {},
   "outputs": [],
   "source": [
    "# !pip install selenium\n",
    "# !pip install webdriver-manager\n",
    "# !pip install pandas\n",
    "# !pip install pyarrow\n",
    "# !pip install boto3"
   ]
  },
  {
   "cell_type": "code",
   "execution_count": 6,
   "id": "e8410d83-5189-4d58-bf72-498c57a8f277",
   "metadata": {},
   "outputs": [
    {
     "name": "stdout",
     "output_type": "stream",
     "text": [
      ">>Scrap de dados do site da B3 - URLhttps://sistemaswebb3-listados.b3.com.br/indexPage/day/ibov?language=pt-br \n",
      ">>>Obtém caminho do arquivo: \n",
      ">>>>Transformação inicial (capturar data e re-nomeação dos campos)\n",
      ">>>>>Salva aruivo em parquet:  /home/aleksandro/Downloads/bovespa.parquet\n",
      ">>>>>>Envia arquivo bovespa.parquet para zona RAW do bucket:  /home/aleksandro/Downloads/bovespa.parquet\n"
     ]
    },
    {
     "name": "stderr",
     "output_type": "stream",
     "text": [
      "/tmp/ipykernel_146436/3015201674.py:38: ParserWarning: Length of header or names does not match length of data. This leads to a loss of data with index_col=False.\n",
      "  date_pregao = pd.read_csv(file_path, sep=\";\", encoding='ISO-8859-1',nrows=1,index_col=False).columns[0].split(' ')[-1]\n"
     ]
    },
    {
     "name": "stdout",
     "output_type": "stream",
     "text": [
      ">>>>>>>Start do job de ETL no glue:  /home/aleksandro/Downloads/bovespa.parquet\n"
     ]
    }
   ],
   "source": [
    "import os\n",
    "import time\n",
    "import boto3\n",
    "import pandas as pd\n",
    "\n",
    "from selenium import webdriver\n",
    "from webdriver_manager.chrome import ChromeDriverManager\n",
    "from selenium.webdriver.chrome.service import Service\n",
    "\n",
    "def download_file(URL):\n",
    "\n",
    "    servico = Service(ChromeDriverManager().install())\n",
    "    navegador = webdriver.Chrome(service=servico)\n",
    "\n",
    "    navegador.get(URL)\n",
    "    time.sleep(3)\n",
    "    \n",
    "    navegador.find_element('xpath', '//*[@id=\"segment\"]').send_keys('Setor de Atuação')\n",
    "    time.sleep(3)\n",
    "    \n",
    "    navegador.find_element('xpath', '//*[@id=\"divContainerIframeB3\"]/div/div[1]/form/div[2]/div/div[2]/div/div/div[1]/div[2]/p/a').click()\n",
    "    time.sleep(3)\n",
    "    return True\n",
    "\n",
    "def get_file_path(path, prefix):\n",
    "    files = os.listdir(path)\n",
    "    files = [k for k in files if prefix in k]\n",
    "    file = sorted(files,reverse=True)[0]\n",
    "    return path+file\n",
    "\n",
    "def get_file_path(path, prefix):\n",
    "    files = os.listdir(path)\n",
    "    files = [k for k in files if prefix in k]\n",
    "    file = sorted(files,reverse=True)[0]\n",
    "    return path+file\n",
    "\n",
    "def get_data_bovespa(file_path):\n",
    "    date_pregao = pd.read_csv(file_path, sep=\";\", encoding='ISO-8859-1',nrows=1,index_col=False).columns[0].split(' ')[-1]\n",
    "    data_bovespa = pd.read_csv(file_path, sep=\";\", encoding='ISO-8859-1',skipfooter=2, engine='python',thousands='.', decimal=',', header=1, index_col=False)\n",
    "    \n",
    "    data_bovespa['data_pregao'] = pd.to_datetime(date_pregao)\n",
    "    data_bovespa['data_pregao'] = data_bovespa['data_pregao'].astype(str)\n",
    "    data_bovespa = data_bovespa.rename(columns={'Setor': 'setor','Código': 'codigo','Ação': 'acao','Tipo': 'tipo','Qtde. Teórica': 'qtde_teorica','Part. (%)': 'part','Part. (%)Acum.': 'part_acum'})\n",
    "    return data_bovespa\n",
    "\n",
    "def main():\n",
    "    URL = \"https://sistemaswebb3-listados.b3.com.br/indexPage/day/ibov?language=pt-br\"\n",
    "    PATH = '/home/aleksandro/Downloads/'\n",
    "\n",
    "    print(f'>>Scrap de dados do site da B3 - URL{URL} ')\n",
    "    download_file(URL)\n",
    "\n",
    "    print('>>>Obtém caminho do arquivo: ')\n",
    "    file_path = get_file_path(PATH, prefix='IBOV')\n",
    "\n",
    "    print('>>>>Transformação inicial (capturar data e re-nomeação dos campos)')\n",
    "    data_bovespa = get_data_bovespa(file_path)\n",
    "\n",
    "    print('>>>>>Salva aruivo em parquet: ', PATH + 'bovespa.parquet')\n",
    "    data_bovespa.head(3)\n",
    "    data_bovespa.to_parquet(PATH + 'bovespa.parquet')\n",
    "\n",
    "    print('>>>>>>Envia arquivo bovespa.parquet para zona RAW do bucket: ', PATH + 'bovespa.parquet')\n",
    "    s3 = boto3.client('s3')\n",
    "    s3.upload_file(PATH + '/bovespa.parquet', 'fiap-mlet-aleksandro', 'raw/bovespa.parquet')\n",
    "\n",
    "    print('>>>>>>>Start do job de ETL no glue: ', PATH + 'bovespa.parquet')\n",
    "    glue = boto3.client('glue')\n",
    "    glue.start_job_run(JobName=\"tc-dados-bovespa\")\n",
    "\n",
    "if __name__ == \"__main__\":\n",
    "    main()\n"
   ]
  },
  {
   "cell_type": "code",
   "execution_count": 12,
   "id": "78f0571b-15ae-4c88-8434-920ba5b0e22c",
   "metadata": {},
   "outputs": [],
   "source": []
  },
  {
   "cell_type": "code",
   "execution_count": 4,
   "id": "16081407-7127-45f1-88c4-359f83450b45",
   "metadata": {},
   "outputs": [
    {
     "data": {
      "text/plain": [
       "{'JobRunId': 'jr_6f6fbce942f4c52bee4655c9df8984d2105e260ac7f5c4ad9e8a96be4d4725e1',\n",
       " 'ResponseMetadata': {'RequestId': '26978baf-2d6a-46a3-ac9a-0c94865a394f',\n",
       "  'HTTPStatusCode': 200,\n",
       "  'HTTPHeaders': {'date': 'Mon, 22 Jul 2024 13:17:08 GMT',\n",
       "   'content-type': 'application/x-amz-json-1.1',\n",
       "   'content-length': '82',\n",
       "   'connection': 'keep-alive',\n",
       "   'x-amzn-requestid': '26978baf-2d6a-46a3-ac9a-0c94865a394f'},\n",
       "  'RetryAttempts': 0}}"
      ]
     },
     "execution_count": 4,
     "metadata": {},
     "output_type": "execute_result"
    }
   ],
   "source": [
    "glue = boto3.client('glue')\n",
    "glue.start_job_run(JobName=\"tc-dados-bovespa\")"
   ]
  },
  {
   "cell_type": "code",
   "execution_count": null,
   "id": "863308eb-505c-4f0a-bc46-f2f4ed3a36a0",
   "metadata": {},
   "outputs": [],
   "source": []
  },
  {
   "cell_type": "code",
   "execution_count": null,
   "id": "996e0ac2-39ab-4afb-bc5e-eef46274ddf9",
   "metadata": {},
   "outputs": [],
   "source": []
  }
 ],
 "metadata": {
  "kernelspec": {
   "display_name": "Python 3 (ipykernel)",
   "language": "python",
   "name": "python3"
  },
  "language_info": {
   "codemirror_mode": {
    "name": "ipython",
    "version": 3
   },
   "file_extension": ".py",
   "mimetype": "text/x-python",
   "name": "python",
   "nbconvert_exporter": "python",
   "pygments_lexer": "ipython3",
   "version": "3.12.3"
  }
 },
 "nbformat": 4,
 "nbformat_minor": 5
}
